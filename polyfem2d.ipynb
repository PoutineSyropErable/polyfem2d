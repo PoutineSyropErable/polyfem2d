{
 "cells": [
  {
   "cell_type": "code",
   "execution_count": 1,
   "id": "417e1af0-0f7c-4739-9a47-4e8a53745c28",
   "metadata": {},
   "outputs": [
    {
     "name": "stdout",
     "output_type": "stream",
     "text": [
      "Import sucessful!\n"
     ]
    }
   ],
   "source": [
    "import polyfempy as pf \n",
    "import polyscope as ps \n",
    "import meshplot as mp \n",
    "import numpy as np \n",
    "import os, sys\n",
    "\n",
    "\n",
    "\n",
    "print(\"Import sucessful!\")"
   ]
  },
  {
   "cell_type": "code",
   "execution_count": 11,
   "id": "21ddb612-5207-486a-b196-298f95e1fea6",
   "metadata": {},
   "outputs": [
    {
     "name": "stdout",
     "output_type": "stream",
     "text": [
      "/home/francois/MainPython_Virtual_Environment/projects/polyfem2d\n"
     ]
    }
   ],
   "source": [
    "print(os.getcwd())"
   ]
  },
  {
   "cell_type": "code",
   "execution_count": 9,
   "id": "8aa30d8d-424f-4e70-b7a3-c622e0cb45cf",
   "metadata": {},
   "outputs": [],
   "source": [
    "def create_quad_mesh(n_pts):\n",
    "    extend = np.linspace(0,1,n_pts)\n",
    "    x, y = np.meshgrid(extend, extend, sparse=False, indexing='xy')\n",
    "    pts = np.column_stack((x.ravel(), y.ravel()))\n",
    "    \n",
    "    faces = np.ndarray([(n_pts-1)**2, 4],dtype=np.int32)\n",
    "\n",
    "    index = 0\n",
    "    for i in range(n_pts-1):\n",
    "        for j in range(n_pts-1):\n",
    "            faces[index, :] = np.array([\n",
    "                j + i * n_pts,\n",
    "                j+1 + i * n_pts,\n",
    "                j+1 + (i+1) * n_pts,\n",
    "                j + (i+1) * n_pts\n",
    "            ])\n",
    "            index = index + 1\n",
    "            \n",
    "    return pts, faces"
   ]
  },
  {
   "cell_type": "code",
   "execution_count": 12,
   "id": "5c781710-4942-4d03-9532-74f99b89211f",
   "metadata": {},
   "outputs": [
    {
     "data": {
      "text/plain": [
       "['Jupyter Tutorial - PolyFEM_files',\n",
       " 'polyfem2d.ipynb',\n",
       " 'polyfem_practice.py',\n",
       " '.ipynb_checkpoints',\n",
       " 'Entei.mesh',\n",
       " 'Jupyter Tutorial - PolyFEM.html']"
      ]
     },
     "execution_count": 12,
     "metadata": {},
     "output_type": "execute_result"
    }
   ],
   "source": [
    "os.listdir()"
   ]
  },
  {
   "cell_type": "code",
   "execution_count": 13,
   "id": "945f0abd-56e5-4245-bd7c-7cf3c2603d6f",
   "metadata": {},
   "outputs": [
    {
     "name": "stdout",
     "output_type": "stream",
     "text": [
      "[2024-07-21 18:51:32.799] [polyfem] [info] Loading mesh...\n",
      "[2024-07-21 18:51:32.801] [geogram] [info] Loading file Entei.mesh...\n",
      "[2024-07-21 18:51:32.965] [geogram] [info] (FP64) nb_v:21325 nb_e:0 nb_f:26120 nb_b:0 tri:1 dim:3\n",
      "[2024-07-21 18:51:32.965] [geogram] [info]  nb_tets:82861\n",
      "[2024-07-21 18:51:32.965] [geogram] [info] Attributes on vertices: point[3]\n",
      "[2024-07-21 18:51:33.827] [polyfem] [info] mesh bb min [-60.1406, 13.402, -0.0107977], max [-0.99719, 109.415, 65.4548]\n",
      "[2024-07-21 18:51:33.834] [polyfem] [info]  took 1.03454s\n",
      "[2024-07-21 18:51:33.836] [polyfem] [info] simplex_count: \t82861\n",
      "[2024-07-21 18:51:33.836] [polyfem] [info] regular_count: \t0\n",
      "[2024-07-21 18:51:33.836] [polyfem] [info] regular_boundary_count: \t0\n",
      "[2024-07-21 18:51:33.836] [polyfem] [info] simple_singular_count: \t0\n",
      "[2024-07-21 18:51:33.836] [polyfem] [info] multi_singular_count: \t0\n",
      "[2024-07-21 18:51:33.836] [polyfem] [info] boundary_count: \t0\n",
      "[2024-07-21 18:51:33.836] [polyfem] [info] multi_singular_boundary_count: \t0\n",
      "[2024-07-21 18:51:33.836] [polyfem] [info] non_regular_count: \t0\n",
      "[2024-07-21 18:51:33.836] [polyfem] [info] non_regular_boundary_count: \t0\n",
      "[2024-07-21 18:51:33.836] [polyfem] [info] undefined_count: \t0\n",
      "[2024-07-21 18:51:33.836] [polyfem] [info] total count:\t 82861\n",
      "[2024-07-21 18:51:33.838] [polyfem] [info] Building not isoparametric basis...\n",
      "[2024-07-21 18:51:33.836] [polyfem] [info] simplex_count: \t82861\n",
      "[2024-07-21 18:51:33.836] [polyfem] [info] regular_count: \t0\n",
      "[2024-07-21 18:51:33.836] [polyfem] [info] regular_boundary_count: \t0\n",
      "[2024-07-21 18:51:33.836] [polyfem] [info] simple_singular_count: \t0\n",
      "[2024-07-21 18:51:33.836] [polyfem] [info] multi_singular_count: \t0\n",
      "[2024-07-21 18:51:33.836] [polyfem] [info] boundary_count: \t0\n",
      "[2024-07-21 18:51:33.836] [polyfem] [info] multi_singular_boundary_count: \t0\n",
      "[2024-07-21 18:51:33.836] [polyfem] [info] non_regular_count: \t0\n",
      "[2024-07-21 18:51:33.836] [polyfem] [info] non_regular_boundary_count: \t0\n",
      "[2024-07-21 18:51:33.836] [polyfem] [info] undefined_count: \t0\n",
      "[2024-07-21 18:51:33.836] [polyfem] [info] total count:\t 82861\n",
      "[2024-07-21 18:51:33.838] [polyfem] [info] Building not isoparametric basis...\n",
      "[2024-07-21 18:51:34.696] [polyfem] [info] Computing polygonal basis...\n",
      "[2024-07-21 18:51:34.696] [polyfem] [info]  took 1.7e-05s\n",
      "[2024-07-21 18:51:34.768] [polyfem] [info] hmin: 0.117899\n",
      "[2024-07-21 18:51:34.768] [polyfem] [info] hmax: 6.76802\n",
      "[2024-07-21 18:51:34.768] [polyfem] [info] havg: 1.37992\n",
      "[2024-07-21 18:51:34.768] [polyfem] [info]  took 0.858612s\n",
      "[2024-07-21 18:51:34.768] [polyfem] [info] flipped elements 0\n",
      "[2024-07-21 18:51:34.768] [polyfem] [info] h: 6.76802\n",
      "[2024-07-21 18:51:34.768] [polyfem] [info] n bases: 138572\n",
      "[2024-07-21 18:51:34.768] [polyfem] [info] n pressure bases: 0\n",
      "[2024-07-21 18:51:34.770] [polyfem] [info] Assigning rhs...\n",
      "[2024-07-21 18:51:34.964] [polyfem] [info]  took 0.194507s\n",
      "[2024-07-21 18:51:34.964] [polyfem] [info] Assembling stiffness mat...\n",
      "[2024-07-21 18:51:43.590] [polyfem] [info]  took 8.62589s\n",
      "[2024-07-21 18:51:43.590] [polyfem] [info] sparsity: 31361252/172819792656\n",
      "[2024-07-21 18:51:43.590] [polyfem] [info] Solving LinearElasticity with\n",
      "[2024-07-21 18:51:43.593] [polyfem] [info] Hypre...\n",
      "[2024-07-21 18:51:50.963] [polyfem] [info]  took 7.37302s\n"
     ]
    }
   ],
   "source": [
    "mesh_path = \"Entei.mesh\"\n",
    "\n",
    "settings = pf.Settings(\n",
    "    pde=pf.PDEs.LinearElasticity, # or any other PDE\n",
    "    discr_order=2\n",
    ")\n",
    "# set necessary settings\n",
    "# e.g. settings.discr_order = 2\n",
    "\n",
    "problem = pf.Problem() # or any other problem\n",
    "# set problem related data\n",
    "# e.g. problem.set_displacement(1, [0, 0], [True, False])\n",
    "\n",
    "settings.problem = problem\n",
    "\n",
    "#now we can create a solver and solve\n",
    "solver = pf.Solver()\n",
    "\n",
    "solver.settings(settings)\n",
    "solver.load_mesh_from_path(mesh_path, normalize_mesh=False)\n",
    "\n",
    "solver.solve()\n",
    "\n"
   ]
  },
  {
   "cell_type": "code",
   "execution_count": 1,
   "id": "7c5a5245-c95c-4373-a841-4fbd070a2283",
   "metadata": {},
   "outputs": [
    {
     "name": "stdout",
     "output_type": "stream",
     "text": [
      "[polyscope] Backend: openGL3_glfw -- Loaded openGL version: 4.6 (Core Profile) Mesa 24.1.4-arch1.2\n"
     ]
    },
    {
     "ename": "NameError",
     "evalue": "name 'my_points' is not defined",
     "output_type": "error",
     "traceback": [
      "\u001b[0;31m---------------------------------------------------------------------------\u001b[0m",
      "\u001b[0;31mNameError\u001b[0m                                 Traceback (most recent call last)",
      "Cell \u001b[0;32mIn[1], line 8\u001b[0m\n\u001b[1;32m      4\u001b[0m ps\u001b[38;5;241m.\u001b[39minit()\n\u001b[1;32m      6\u001b[0m \u001b[38;5;66;03m### Register a point cloud\u001b[39;00m\n\u001b[1;32m      7\u001b[0m \u001b[38;5;66;03m# `my_points` is a Nx3 numpy array\u001b[39;00m\n\u001b[0;32m----> 8\u001b[0m ps\u001b[38;5;241m.\u001b[39mregister_point_cloud(\u001b[38;5;124m\"\u001b[39m\u001b[38;5;124mmy points\u001b[39m\u001b[38;5;124m\"\u001b[39m, my_points)\n\u001b[1;32m     10\u001b[0m \u001b[38;5;66;03m### Register a mesh\u001b[39;00m\n\u001b[1;32m     11\u001b[0m \u001b[38;5;66;03m# `verts` is a Nx3 numpy array of vertex positions\u001b[39;00m\n\u001b[1;32m     12\u001b[0m \u001b[38;5;66;03m# `faces` is a Fx3 array of indices, or a nested list\u001b[39;00m\n\u001b[1;32m     13\u001b[0m ps\u001b[38;5;241m.\u001b[39mregister_surface_mesh(\u001b[38;5;124m\"\u001b[39m\u001b[38;5;124mmy mesh\u001b[39m\u001b[38;5;124m\"\u001b[39m, verts, faces, smooth_shade\u001b[38;5;241m=\u001b[39m\u001b[38;5;28;01mTrue\u001b[39;00m)\n",
      "\u001b[0;31mNameError\u001b[0m: name 'my_points' is not defined"
     ]
    }
   ],
   "source": [
    "import polyscope as ps\n",
    "\n",
    "# Initialize polyscope\n",
    "ps.init()\n",
    "\n",
    "### Register a point cloud\n",
    "# `my_points` is a Nx3 numpy array\n",
    "ps.register_point_cloud(\"my points\", my_points)\n",
    "\n",
    "### Register a mesh\n",
    "# `verts` is a Nx3 numpy array of vertex positions\n",
    "# `faces` is a Fx3 array of indices, or a nested list\n",
    "ps.register_surface_mesh(\"my mesh\", verts, faces, smooth_shade=True)\n",
    "\n",
    "# Add a scalar function and a vector function defined on the mesh\n",
    "# vertex_scalar is a length V numpy array of values\n",
    "# face_vectors is an Fx3 array of vectors per face\n",
    "ps.get_surface_mesh(\"my mesh\").add_scalar_quantity(\"my_scalar\", \n",
    "        vertex_scalar, defined_on='vertices', cmap='blues')\n",
    "ps.get_surface_mesh(\"my mesh\").add_vector_quantity(\"my_vector\", \n",
    "        face_vectors, defined_on='faces', color=(0.2, 0.5, 0.5))\n",
    "\n",
    "# View the point cloud and mesh we just registered in the 3D UI\n",
    "ps.show()"
   ]
  },
  {
   "cell_type": "code",
   "execution_count": null,
   "id": "be992a86-cdb4-4304-8dff-c0ae91913d92",
   "metadata": {},
   "outputs": [],
   "source": []
  }
 ],
 "metadata": {
  "kernelspec": {
   "display_name": "base",
   "language": "python",
   "name": "python3"
  },
  "language_info": {
   "codemirror_mode": {
    "name": "ipython",
    "version": 3
   },
   "file_extension": ".py",
   "mimetype": "text/x-python",
   "name": "python",
   "nbconvert_exporter": "python",
   "pygments_lexer": "ipython3",
   "version": "3.1.undefined"
  }
 },
 "nbformat": 4,
 "nbformat_minor": 5
}
