{
 "cells": [
  {
   "cell_type": "code",
   "execution_count": 3,
   "id": "417e1af0-0f7c-4739-9a47-4e8a53745c28",
   "metadata": {},
   "outputs": [
    {
     "name": "stdout",
     "output_type": "stream",
     "text": [
      "Import sucessful!\n"
     ]
    }
   ],
   "source": [
    "import polyfempy as pf \n",
    "import polyscope as ps \n",
    "import meshplot as mp \n",
    "import numpy as np \n",
    "\n",
    "\n",
    "\n",
    "\n",
    "print(\"Import sucessful!\")"
   ]
  },
  {
   "cell_type": "code",
   "execution_count": null,
   "id": "945f0abd-56e5-4245-bd7c-7cf3c2603d6f",
   "metadata": {},
   "outputs": [],
   "source": []
  }
 ],
 "metadata": {
  "kernelspec": {
   "display_name": "Conda (venv)",
   "language": "python",
   "name": "venv"
  },
  "language_info": {
   "codemirror_mode": {
    "name": "ipython",
    "version": 3
   },
   "file_extension": ".py",
   "mimetype": "text/x-python",
   "name": "python",
   "nbconvert_exporter": "python",
   "pygments_lexer": "ipython3",
   "version": "3.12.2"
  }
 },
 "nbformat": 4,
 "nbformat_minor": 5
}
