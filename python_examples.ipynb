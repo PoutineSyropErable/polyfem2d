{
 "cells": [
  {
   "cell_type": "markdown",
   "metadata": {},
   "source": [
    "# Polyfem Python Tutorial"
   ]
  },
  {
   "cell_type": "markdown",
   "metadata": {},
   "source": [
    "This is a jupyter notebook. The \"real\" notebook can be found [here](https://github.com/polyfem/polyfem.github.io/blob/docs/docs/python_examples.ipynb)."
   ]
  },
  {
   "cell_type": "markdown",
   "metadata": {},
   "source": [
    "Polyfem relies on 3 main objects:\n",
    "\n",
    "1. `Settings` that contains the main settings such discretization order (e.g., $P_1$ or $P_2$), material parameters, formulation, etc.\n",
    "2. `Problem` that describe the problem you want to solve, that is the boundary conditions and right-hand side. There are some predefined problems, such as `DrivenCavity`, or generic problems, such as `GenericTensor`.\n",
    "3. `Solver` that is the actual FEM solver.\n",
    "\n",
    "The usage of specific problems is indented for benchmarking, in general you want to use the `GenericTensor` for tensor-based PDEs (e.g., elasticity) or `GenericScalar` for scalar PDEs (e.g., Poisson). \n",
    "\n",
    "A typical use of Polyfem is:"
   ]
  },
  {
   "cell_type": "markdown",
   "metadata": {},
   "source": [
    "```python\n",
    "settings = polyfempy.Settings(\n",
    "    pde=polyfempy.PDEs.LinearElasticity, # or any other PDE\n",
    "    discr_order=2\n",
    ")\n",
    "# set necessary settings\n",
    "# e.g. settings.discr_order = 2\n",
    "\n",
    "problem = polyfempy.Problem() # or any other problem\n",
    "# set problem related data\n",
    "# e.g. problem.set_displacement(1, [0, 0], [True, False])\n",
    "\n",
    "settings.problem = problem\n",
    "\n",
    "#now we can create a solver and solve\n",
    "solver = polyfempy.Solver()\n",
    "\n",
    "solver.settings(settings)\n",
    "solver.load_mesh_from_path(mesh_path, normalize_mesh=False)\n",
    "\n",
    "solver.solve()\n",
    "```"
   ]
  },
  {
   "cell_type": "markdown",
   "metadata": {},
   "source": [
    "**Note 1**: for legacy reasons Polyfem always normalizes the mesh (i.e., rescale it to lay in the $[0,1]^d$ box, you can use `normalize_mesh=False` when loading to disable this feature."
   ]
  },
  {
   "cell_type": "markdown",
   "metadata": {},
   "source": [
    "**Note 2**: the solution $u(x)$ of a FEM solver are the coefficients $u_i$ you need to multiply the bases $\\varphi_i(x)$ with:\n",
    "$$\n",
    "u(x)=\\sum u_i \\varphi_i(x).\n",
    "$$\n",
    "The coefficients $u_i$ are **unrelated** with the mesh vertices because of reordering of the nodes or high-order bases. For instance $P_2$ bases have additional nodes on the edges which do not exist in the mesh.\n",
    "\n",
    "For this reason Polyfem uses a *visualization mesh* where the solution is sampled at the vertices.\n",
    "This mesh has two advantages: \n",
    "1. it solves the problem of nodes reordering and additional nodes in the same way\n",
    "2. it provides a \"true\" visualization for high order solution by densely sampling each element (a $P_2$ solution is a piecewise quadratic function which is visualized in a picewise linear fashion, thus the need of a dense element sampling).\n",
    "\n",
    "To control the resolution of the visualization mesh use `vismesh_rel_area` while loading."
   ]
  },
  {
   "cell_type": "markdown",
   "metadata": {},
   "source": [
    "## Examples"
   ]
  },
  {
   "cell_type": "markdown",
   "metadata": {},
   "source": [
    "Some imports for plotting"
   ]
  },
  {
   "cell_type": "code",
   "execution_count": 1,
   "metadata": {},
   "outputs": [],
   "source": [
    "import meshplot as mp\n",
    "import numpy as np\n",
    "import polyfempy as pf"
   ]
  },
  {
   "cell_type": "markdown",
   "metadata": {},
   "source": [
    "### Utility"
   ]
  },
  {
   "cell_type": "markdown",
   "metadata": {},
   "source": [
    "Creates a quad mesh of `n_pts` x `n_pts` in the form of a regular grid"
   ]
  },
  {
   "cell_type": "code",
   "execution_count": 2,
   "metadata": {},
   "outputs": [],
   "source": [
    "def create_quad_mesh(n_pts):\n",
    "    extend = np.linspace(0,1,n_pts)\n",
    "    x, y = np.meshgrid(extend, extend, sparse=False, indexing='xy')\n",
    "    pts = np.column_stack((x.ravel(), y.ravel()))\n",
    "    \n",
    "    faces = np.ndarray([(n_pts-1)**2, 4],dtype=np.int32)\n",
    "\n",
    "    index = 0\n",
    "    for i in range(n_pts-1):\n",
    "        for j in range(n_pts-1):\n",
    "            faces[index, :] = np.array([\n",
    "                j + i * n_pts,\n",
    "                j+1 + i * n_pts,\n",
    "                j+1 + (i+1) * n_pts,\n",
    "                j + (i+1) * n_pts\n",
    "            ])\n",
    "            index = index + 1\n",
    "            \n",
    "    return pts, faces"
   ]
  },
  {
   "cell_type": "markdown",
   "metadata": {},
   "source": [
    "## Plate hole"
   ]
  },
  {
   "cell_type": "markdown",
   "metadata": {},
   "source": [
    "This is the python version of the plate with hole example explained [here](https://polyfem.github.io/tutorial/#boundary-conditions)."
   ]
  },
  {
   "cell_type": "markdown",
   "metadata": {},
   "source": [
    "Set the mesh path"
   ]
  },
  {
   "cell_type": "code",
   "execution_count": 3,
   "metadata": {},
   "outputs": [],
   "source": [
    "mesh_path = \"plane_hole.obj\""
   ]
  },
  {
   "cell_type": "markdown",
   "metadata": {},
   "source": [
    "create settings:\n",
    "\n",
    "- Pick linear $P_1$ elements (if the mesh would be a quad it would be $Q_1$)\n",
    "- We are use a linear material model"
   ]
  },
  {
   "cell_type": "code",
   "execution_count": 4,
   "metadata": {},
   "outputs": [],
   "source": [
    "settings = pf.Settings(\n",
    "    discr_order=1,\n",
    "    pde=pf.PDEs.LinearElasticity\n",
    ")"
   ]
  },
  {
   "cell_type": "markdown",
   "metadata": {},
   "source": [
    "and choose Young's modulus and poisson ratio"
   ]
  },
  {
   "cell_type": "code",
   "execution_count": 5,
   "metadata": {},
   "outputs": [],
   "source": [
    "settings.set_material_params(\"E\", 210000)\n",
    "settings.set_material_params(\"nu\", 0.3)"
   ]
  },
  {
   "cell_type": "markdown",
   "metadata": {},
   "source": [
    "Next we setup the problem"
   ]
  },
  {
   "cell_type": "code",
   "execution_count": 6,
   "metadata": {},
   "outputs": [],
   "source": [
    "problem = pf.Problem()"
   ]
  },
  {
   "cell_type": "markdown",
   "metadata": {},
   "source": [
    "sideset 1 has symetric boundary in $x$"
   ]
  },
  {
   "cell_type": "code",
   "execution_count": 7,
   "metadata": {},
   "outputs": [],
   "source": [
    "problem.set_x_symmetric(1)"
   ]
  },
  {
   "cell_type": "markdown",
   "metadata": {},
   "source": [
    "sideset 4 has symmetric boundary in $y$"
   ]
  },
  {
   "cell_type": "code",
   "execution_count": 8,
   "metadata": {},
   "outputs": [],
   "source": [
    "problem.set_y_symmetric(4)"
   ]
  },
  {
   "cell_type": "markdown",
   "metadata": {},
   "source": [
    "sideset 3 has a force of [100, 0] applied"
   ]
  },
  {
   "cell_type": "code",
   "execution_count": 9,
   "metadata": {},
   "outputs": [],
   "source": [
    "problem.set_force(3, [100, 0])"
   ]
  },
  {
   "cell_type": "markdown",
   "metadata": {},
   "source": [
    "fianally set the problem"
   ]
  },
  {
   "cell_type": "code",
   "execution_count": 10,
   "metadata": {},
   "outputs": [],
   "source": [
    "settings.problem = problem"
   ]
  },
  {
   "cell_type": "markdown",
   "metadata": {},
   "source": [
    "Solve!\n",
    "Note: we normalize the mesh to be in $[0,1]^2$"
   ]
  },
  {
   "cell_type": "code",
   "execution_count": 11,
   "metadata": {},
   "outputs": [
    {
     "name": "stdout",
     "output_type": "stream",
     "text": [
      "[2024-07-21 21:11:10.357] [polyfem] [info] Loading mesh...\n",
      "[2024-07-21 21:11:10.357] [geogram] [info] Loading file plane_hole.obj...\n",
      "[2024-07-21 21:11:10.372] [geogram] [info] (FP64) nb_v:8549 nb_e:0 nb_f:16797 nb_b:299 tri:1 dim:3\n",
      "[2024-07-21 21:11:10.372] [geogram] [info] Attributes on vertices: point[3]\n",
      "[2024-07-21 21:11:10.383] [polyfem] [info] mesh bb min [0, 0], max [1, 0.500001]\n",
      "[2024-07-21 21:11:10.384] [polyfem] [info]  took 0.026449s\n",
      "[2024-07-21 21:11:10.385] [polyfem] [info] simplex_count: \t16797\n",
      "[2024-07-21 21:11:10.385] [polyfem] [info] regular_count: \t0\n",
      "[2024-07-21 21:11:10.385] [polyfem] [info] regular_boundary_count: \t0\n",
      "[2024-07-21 21:11:10.385] [polyfem] [info] simple_singular_count: \t0\n",
      "[2024-07-21 21:11:10.385] [polyfem] [info] multi_singular_count: \t0\n",
      "[2024-07-21 21:11:10.385] [polyfem] [info] boundary_count: \t0\n",
      "[2024-07-21 21:11:10.385] [polyfem] [info] multi_singular_boundary_count: \t0\n",
      "[2024-07-21 21:11:10.385] [polyfem] [info] non_regular_count: \t0\n",
      "[2024-07-21 21:11:10.385] [polyfem] [info] non_regular_boundary_count: \t0\n",
      "[2024-07-21 21:11:10.385] [polyfem] [info] undefined_count: \t0\n",
      "[2024-07-21 21:11:10.385] [polyfem] [info] total count:\t 16797\n",
      "[2024-07-21 21:11:10.386] [polyfem] [info] Building isoparametric basis...\n",
      "[2024-07-21 21:11:10.408] [polyfem] [info] Computing polygonal basis...\n",
      "[2024-07-21 21:11:10.408] [polyfem] [info]  took 2.3e-05s\n",
      "[2024-07-21 21:11:10.409] [polyfem] [info] hmin: 0.004207\n",
      "[2024-07-21 21:11:10.409[2024-07-21 21:11:10.385] [polyfem] [info] simplex_count: \t16797\n",
      "[2024-07-21 21:11:10.385] [polyfem] [info] regular_count: \t0\n",
      "[2024-07-21 21:11:10.385] [polyfem] [info] regular_boundary_count: \t0\n",
      "[2024-07-21 21:11:10.385] [polyfem] [info] simple_singular_count: \t0\n",
      "[2024-07-21 21:11:10.385] [polyfem] [info] multi_singular_count: \t0\n",
      "[2024-07-21 21:11:10.385] [polyfem] [info] boundary_count: \t0\n",
      "[2024-07-21 21:11:10.385] [polyfem] [info] multi_singular_boundary_count: \t0\n",
      "[2024-07-21 21:11:10.385] [polyfem] [info] non_regular_count: \t0\n",
      "[2024-07-21 21:11:10.385] [polyfem] [info] non_regular_boundary_count: \t0\n",
      "[2024-07-21 21:11:10.385] [polyfem] [info] undefined_count: \t0\n",
      "[2024-07-21 21:11:10.385] [polyfem] [info] total count:\t 16797\n",
      "[2024-07-21 21:11:10.386] [polyfem] [info] Building isoparametric basis...\n",
      "[2024-07-21 21:11:10.408] [polyfem] [info] Computing polygonal basis...\n",
      "[2024-07-21 21:11:10.408] [polyfem] [info]  took 2.3e-05s\n",
      "[2024-07-21 21:11:10.409] [polyfem] [info] hmin: 0.004207\n",
      "[2024-07-21 21:11:10.409[2024-07-21 21:11:10.409] [polyfem] [info] havg: 0.00831951\n",
      "[2024-07-21 21:11:10.409] [polyfem] [info]  took 0.022786s\n",
      "[2024-07-21 21:11:10.409] [polyfem] [info] flipped elements 0\n",
      "[2024-07-21 21:11:10.409] [polyfem] [info] h: 0.01875\n",
      "[2024-07-21 21:11:10.409] [polyfem] [info] n bases: 8549\n",
      "[2024-07-21 21:11:10.409] [polyfem] [info] n pressure bases: 0\n",
      "[2024-07-21 21:11:10.410] [polyfem] [info] Assigning rhs...\n",
      "[2024-07-21 21:11:10.411] [polyfem] [info]  took 0.001014s\n",
      "[2024-07-21 21:11:10.411] [polyfem] [info] Assembling stiffness mat...\n",
      "[2024-07-21 21:11:10.481] [polyfem] [info]  took 0.069786s\n",
      "[2024-07-21 21:11:10.481] [polyfem] [info] sparsity: 236956/292341604\n",
      "[2024-07-21 21:11:10.481] [polyfem] [info] Solving LinearElasticity with\n",
      "[2024-07-21 21:11:10.481] [polyfem] [info] Hypre...\n",
      "[2024-07-21 21:11:11.085] [polyfem] [info]  took 0.604129s\n"
     ]
    }
   ],
   "source": [
    "solver = pf.Solver()\n",
    "\n",
    "solver.settings(settings)\n",
    "solver.load_mesh_from_path(mesh_path, normalize_mesh=True)\n",
    "\n",
    "solver.solve()"
   ]
  },
  {
   "cell_type": "markdown",
   "metadata": {},
   "source": [
    "Get the solution"
   ]
  },
  {
   "cell_type": "code",
   "execution_count": 12,
   "metadata": {},
   "outputs": [],
   "source": [
    "pts, tets, disp = solver.get_sampled_solution()"
   ]
  },
  {
   "cell_type": "markdown",
   "metadata": {},
   "source": [
    "diplace the mesh"
   ]
  },
  {
   "cell_type": "code",
   "execution_count": 13,
   "metadata": {},
   "outputs": [],
   "source": [
    "vertices = pts + disp"
   ]
  },
  {
   "cell_type": "markdown",
   "metadata": {},
   "source": [
    "and get the stresses"
   ]
  },
  {
   "cell_type": "code",
   "execution_count": 14,
   "metadata": {},
   "outputs": [],
   "source": [
    "mises, _ = solver.get_sampled_mises_avg()"
   ]
  },
  {
   "cell_type": "markdown",
   "metadata": {},
   "source": [
    "finally plot with the above code"
   ]
  },
  {
   "cell_type": "code",
   "execution_count": 15,
   "metadata": {},
   "outputs": [
    {
     "data": {
      "application/vnd.jupyter.widget-view+json": {
       "model_id": "9c946a95183a4221baf426c4c21f6cfc",
       "version_major": 2,
       "version_minor": 0
      },
      "text/plain": [
       "Renderer(camera=PerspectiveCamera(children=(DirectionalLight(color='white', intensity=0.6, position=(0.5002993…"
      ]
     },
     "metadata": {},
     "output_type": "display_data"
    },
    {
     "data": {
      "text/plain": [
       "<meshplot.Viewer.Viewer at 0x72aedc448400>"
      ]
     },
     "execution_count": 15,
     "metadata": {},
     "output_type": "execute_result"
    }
   ],
   "source": [
    "mp.plot(vertices, tets, mises, return_plot=True)"
   ]
  },
  {
   "cell_type": "markdown",
   "metadata": {},
   "source": [
    "Note that we used `get_sampled_mises_avg` to get the Von Mises stresses because they depend on the Jacobian of the displacement which, becase we use $P_1$ elements, is piece-wise constant. To avoid that effect in `get_sampled_mises_avg` the mises are averaged per vertex weighted by the area of the triangles. If you want the \"real\" mises just call"
   ]
  },
  {
   "cell_type": "code",
   "execution_count": 16,
   "metadata": {},
   "outputs": [
    {
     "data": {
      "application/vnd.jupyter.widget-view+json": {
       "model_id": "3c4eb80e308e4fd0b6aae750f72d10b5",
       "version_major": 2,
       "version_minor": 0
      },
      "text/plain": [
       "Renderer(camera=PerspectiveCamera(children=(DirectionalLight(color='white', intensity=0.6, position=(0.5002993…"
      ]
     },
     "metadata": {},
     "output_type": "display_data"
    },
    {
     "data": {
      "text/plain": [
       "<meshplot.Viewer.Viewer at 0x72aedc1c1490>"
      ]
     },
     "execution_count": 16,
     "metadata": {},
     "output_type": "execute_result"
    }
   ],
   "source": [
    "mises = solver.get_sampled_mises()\n",
    "mp.plot(vertices, tets, mises, return_plot=True)"
   ]
  },
  {
   "cell_type": "markdown",
   "metadata": {},
   "source": [
    "## Plate hole with High-Order Mesh"
   ]
  },
  {
   "cell_type": "markdown",
   "metadata": {},
   "source": [
    "This is the same example as before, but we use `wildmeshing` to create a curved mesh."
   ]
  },
  {
   "cell_type": "code",
   "execution_count": 17,
   "metadata": {},
   "outputs": [
    {
     "name": "stdout",
     "output_type": "stream",
     "text": [
      "1/1 n sub paths: 5\n",
      "Loading and preprocessing ...\n",
      "remove duplicates:\n",
      "#v 69->64\n",
      "#e 64->64\n",
      "simplify\n",
      "0/5 features are simplified\n",
      "#features = 5\n",
      "\n",
      "get_inflections & cut_reflex\n",
      "#features = 5\n",
      "\n",
      "sample_features\n",
      "\n",
      "remove_high_curvature\n",
      "0 segments are removed\n",
      "#features = 5\n",
      "\n",
      "remove_short_features\n",
      "0 short edges are removed\n",
      "#features = 5\n",
      "\n",
      "mu_separation\n",
      "#pairs = 5\n",
      "#check_feature = 5(5)\n",
      "0.014208s\n",
      "#features = 5\n",
      "\n",
      "cut_inflections\n",
      "#features = 5\n",
      "\n",
      "remove_short_features again\n",
      "0 short edges are removed\n",
      "#features = 5\n",
      "\n",
      "gen_segments\n",
      "#v = 36\n",
      "#e = 36\n",
      "\n",
      "refine:\n",
      "#v 64->36\n",
      "#e 64->36\n",
      "simplify:\n",
      "#v 36->36\n",
      "#e 36->36\n",
      "#secondary_features = 0\n",
      "Loaded and preprocessed.\n",
      "time = 0.052303s\n",
      "\n",
      "BSP subdivision...\n",
      "#v 120->168\n",
      "#f 204->300\n",
      "BSP subdivision done.\n",
      "time = 0.001875s\n",
      "\n",
      "Mesh optimization...\n",
      "#v = 168(168)    unrounded = 0\n",
      "#t = 300(300)\n",
      "max_energy = 16.3103\n",
      "avg_energy = 3.86064\n",
      "min_angle = 4.39204, max_angle = 132.55\n",
      "< 5: 0.00333333, < 10: 0.06, < 15: 0.0866667\n",
      "> 175: 0, > 170: 0, > 165: 0\n",
      "\n",
      "//////////////// preprocessing ////////////////\n",
      "feature vertex snapping...\n",
      "success 4/4\n",
      "feature vertex snapping done!\n",
      "time = 1.5e-05s\n",
      "#v = 168(168)    unrounded = 0\n",
      "#t = 300(300)\n",
      "max_energy = 16.3103\n",
      "avg_energy = 3.86064\n",
      "min_angle = 4.39204, max_angle = 132.55\n",
      "< 5: 0.00333333, < 10: 0.06, < 15: 0.0866667\n",
      "> 175: 0, > 170: 0, > 165: 0\n",
      "\n",
      "edge collapsing...\n",
      "queue_s.size() = 74\n",
      "success 0\n",
      "re-push 0\n",
      "edge collapsing done!\n",
      "time = 0.000191s\n",
      "#v = 168(168)    unrounded = 0\n",
      "#t = 300(300)\n",
      "max_energy = 16.3103\n",
      "avg_energy = 3.86064\n",
      "min_angle = 4.39204, max_angle = 132.55\n",
      "< 5: 0.00333333, < 10: 0.06, < 15: 0.0866667\n",
      "> 175: 0, > 170: 0, > 165: 0\n",
      "\n",
      "//////////////// postprocessing ////////////////\n",
      "feature vertex snapping...\n",
      "success 0/0\n",
      "feature vertex snapping done!\n",
      "time = 1.2e-05s\n",
      "#v = 168(168)    unrounded = 0\n",
      "#t = 300(300)\n",
      "max_energy = 16.3103\n",
      "avg_energy = 3.86064\n",
      "min_angle = 4.39204, max_angle = 132.55\n",
      "< 5: 0.00333333, < 10: 0.06, < 15: 0.0866667\n",
      "> 175: 0, > 170: 0, > 165: 0\n",
      "\n",
      "edge collapsing...\n",
      "queue_s.size() = 806\n",
      "success 14\n",
      "re-push 28\n",
      "queue_s.size() = 28\n",
      "success 0\n",
      "re-push 0\n",
      "edge collapsing done!\n",
      "time = 0.000743s\n",
      "#v = 154(168)    unrounded = 0\n",
      "#t = 273(300)\n",
      "max_energy = 16.3103\n",
      "avg_energy = 3.91169\n",
      "min_angle = 4.39204, max_angle = 132.55\n",
      "< 5: 0.003663, < 10: 0.0659341, < 15: 0.0952381\n",
      "> 175: 0, > 170: 0, > 165: 0\n",
      "\n",
      "Mesh optimization done.\n",
      "time = 0.003563s\n",
      "Curving...\n",
      "edge.size() = 0\n",
      "feature vertex snapping...\n",
      "success 0/0\n",
      "feature vertex snapping done!\n",
      "time = 1.1e-05s\n",
      "#v = 154(168)    unrounded = 0\n",
      "#t = 273(300)\n",
      "max_energy = 16.3103\n",
      "avg_energy = 3.91169\n",
      "min_angle = 4.39204, max_angle = 132.55\n",
      "< 5: 0.003663, < 10: 0.0659341, < 15: 0.0952381\n",
      "> 175: 0, > 170: 0, > 165: 0\n",
      "\n",
      "edge collapsing...\n",
      "queue_s.size() = 74\n",
      "success 30\n",
      "re-push 53\n",
      "edge collapsing done!\n",
      "time = 0.003943s\n",
      "#v = 124(168)    unrounded = 0\n",
      "#t = 213(300)\n",
      "max_energy = 4.65618\n",
      "avg_energy = 2.38581\n",
      "min_angle = 23.8933, max_angle = 124.551\n",
      "< 5: 0, < 10: 0, < 15: 0\n",
      "> 175: 0, > 170: 0, > 165: 0\n",
      "\n",
      "edge swapping...\n",
      "success 13\n",
      "edge swapping done!\n",
      "time = 0.000385s\n",
      "#v = 124(168)    unrounded = 0\n",
      "#t = 213(300)\n",
      "max_energy = 3.15609\n",
      "avg_energy = 2.34392\n",
      "min_angle = 23.8933, max_angle = 114.047\n",
      "< 5: 0, < 10: 0, < 15: 0\n",
      "> 175: 0, > 170: 0, > 165: 0\n",
      "\n",
      "vertex smoothing...\n",
      "success all 27\n",
      "success boundary 21\n",
      "vertex smoothing done!\n",
      "time = 0.00072s\n",
      "#v = 124(168)    unrounded = 0\n",
      "#t = 213(300)\n",
      "max_energy = 2.9825\n",
      "avg_energy = 2.30931\n",
      "min_angle = 27.9449, max_angle = 102.892\n",
      "< 5: 0, < 10: 0, < 15: 0\n",
      "> 175: 0, > 170: 0, > 165: 0\n",
      "\n",
      "//////////////// CURVED pass 0 ////////////////\n",
      "feature vertex snapping...\n",
      "success 0/0\n",
      "feature vertex snapping done!\n",
      "time = 1e-05s\n",
      "#v = 124(168)    unrounded = 0\n",
      "#t = 213(300)\n",
      "max_energy = 2.9825\n",
      "avg_energy = 2.30931\n",
      "min_angle = 27.9449, max_angle = 102.892\n",
      "< 5: 0, < 10: 0, < 15: 0\n",
      "> 175: 0, > 170: 0, > 165: 0\n",
      "\n",
      "edge splitting...\n",
      "edge splitting done!\n",
      "time = 0.001031s\n",
      "#v = 375(375)    unrounded = 0\n",
      "#t = 680(680)\n",
      "max_energy = 3.75672\n",
      "avg_energy = 2.34897\n",
      "min_angle = 27.9449, max_angle = 112.987\n",
      "< 5: 0, < 10: 0, < 15: 0\n",
      "> 175: 0, > 170: 0, > 165: 0\n",
      "\n",
      "edge collapsing...\n",
      "queue_s.size() = 520\n",
      "success 81\n",
      "re-push 104\n",
      "queue_s.size() = 13\n",
      "success 2\n",
      "re-push 3\n",
      "edge collapsing done!\n",
      "time = 0.000799s\n",
      "#v = 292(375)    unrounded = 0\n",
      "#t = 514(680)\n",
      "max_energy = 3.18795\n",
      "avg_energy = 2.30273\n",
      "min_angle = 29.3257, max_angle = 110.699\n",
      "< 5: 0, < 10: 0, < 15: 0\n",
      "> 175: 0, > 170: 0, > 165: 0\n",
      "\n",
      "edge swapping...\n",
      "success 75\n",
      "edge swapping done!\n",
      "time = 0.001029s\n",
      "#v = 292(375)    unrounded = 0\n",
      "#t = 514(680)\n",
      "max_energy = 2.97916\n",
      "avg_energy = 2.29699\n",
      "min_angle = 29.3257, max_angle = 106.036\n",
      "< 5: 0, < 10: 0, < 15: 0\n",
      "> 175: 0, > 170: 0, > 165: 0\n",
      "\n",
      "vertex smoothing...\n",
      "success all 46\n",
      "success boundary 9\n",
      "vertex smoothing done!\n",
      "time = 0.001478s\n",
      "#v = 292(375)    unrounded = 0\n",
      "#t = 514(680)\n",
      "max_energy = 2.73459\n",
      "avg_energy = 2.26797\n",
      "min_angle = 34.7615, max_angle = 101.76\n",
      "< 5: 0, < 10: 0, < 15: 0\n",
      "> 175: 0, > 170: 0, > 165: 0\n",
      "\n",
      "//////////////// CURVED pass 1 ////////////////\n",
      "feature vertex snapping...\n",
      "success 0/0\n",
      "feature vertex snapping done!\n",
      "time = 1.1e-05s\n",
      "#v = 292(375)    unrounded = 0\n",
      "#t = 514(680)\n",
      "max_energy = 2.73459\n",
      "avg_energy = 2.26797\n",
      "min_angle = 34.7615, max_angle = 101.76\n",
      "< 5: 0, < 10: 0, < 15: 0\n",
      "> 175: 0, > 170: 0, > 165: 0\n",
      "\n",
      "edge splitting...\n",
      "edge splitting done!\n",
      "time = 0.000262s\n",
      "#v = 337(375)    unrounded = 0\n",
      "#t = 604(680)\n",
      "max_energy = 3.19609\n",
      "avg_energy = 2.29257\n",
      "min_angle = 29.6069, max_angle = 117.325\n",
      "< 5: 0, < 10: 0, < 15: 0\n",
      "> 175: 0, > 170: 0, > 165: 0\n",
      "\n",
      "edge collapsing...\n",
      "queue_s.size() = 302\n",
      "success 44\n",
      "re-push 53\n",
      "queue_s.size() = 5\n",
      "success 0\n",
      "re-push 0\n",
      "edge collapsing done!\n",
      "time = 0.000495s\n",
      "#v = 293(375)    unrounded = 0\n",
      "#t = 516(680)\n",
      "max_energy = 2.89935\n",
      "avg_energy = 2.26751\n",
      "min_angle = 34.7615, max_angle = 100.394\n",
      "< 5: 0, < 10: 0, < 15: 0\n",
      "> 175: 0, > 170: 0, > 165: 0\n",
      "\n",
      "edge swapping...\n",
      "success 16\n",
      "edge swapping done!\n",
      "time = 0.000763s\n",
      "#v = 293(375)    unrounded = 0\n",
      "#t = 516(680)\n",
      "max_energy = 2.59301\n",
      "avg_energy = 2.26395\n",
      "min_angle = 34.7615, max_angle = 97.7103\n",
      "< 5: 0, < 10: 0, < 15: 0\n",
      "> 175: 0, > 170: 0, > 165: 0\n",
      "\n",
      "vertex smoothing...\n",
      "success all 38\n",
      "success boundary 4\n",
      "vertex smoothing done!\n",
      "time = 0.00144s\n",
      "#v = 293(375)    unrounded = 0\n",
      "#t = 516(680)\n",
      "max_energy = 2.51249\n",
      "avg_energy = 2.25196\n",
      "min_angle = 35.3098, max_angle = 96.5235\n",
      "< 5: 0, < 10: 0, < 15: 0\n",
      "> 175: 0, > 170: 0, > 165: 0\n",
      "\n",
      "//////////////// CURVED pass 2 ////////////////\n",
      "feature vertex snapping...\n",
      "success 0/0\n",
      "feature vertex snapping done!\n",
      "time = 1e-05s\n",
      "#v = 293(375)    unrounded = 0\n",
      "#t = 516(680)\n",
      "max_energy = 2.51249\n",
      "avg_energy = 2.25196\n",
      "min_angle = 35.3098, max_angle = 96.5235\n",
      "< 5: 0, < 10: 0, < 15: 0\n",
      "> 175: 0, > 170: 0, > 165: 0\n",
      "\n",
      "edge splitting...\n",
      "edge splitting done!\n",
      "time = 0.000245s\n",
      "#v = 335(375)    unrounded = 0\n",
      "#t = 600(680)\n",
      "max_energy = 3.08839\n",
      "avg_energy = 2.2811\n",
      "min_angle = 28.0978, max_angle = 111.449\n",
      "< 5: 0, < 10: 0, < 15: 0\n",
      "> 175: 0, > 170: 0, > 165: 0\n",
      "\n",
      "edge collapsing...\n",
      "queue_s.size() = 280\n",
      "success 44\n",
      "re-push 50\n",
      "queue_s.size() = 2\n",
      "success 0\n",
      "re-push 0\n",
      "edge collapsing done!\n",
      "time = 0.000471s\n",
      "#v = 291(375)    unrounded = 0\n",
      "#t = 512(680)\n",
      "max_energy = 2.73932\n",
      "avg_energy = 2.2547\n",
      "min_angle = 35.5401, max_angle = 101.822\n",
      "< 5: 0, < 10: 0, < 15: 0\n",
      "> 175: 0, > 170: 0, > 165: 0\n",
      "\n",
      "edge swapping...\n",
      "success 11\n",
      "edge swapping done!\n",
      "time = 0.000706s\n",
      "#v = 291(375)    unrounded = 0\n",
      "#t = 512(680)\n",
      "max_energy = 2.51249\n",
      "avg_energy = 2.2522\n",
      "min_angle = 35.5401, max_angle = 96.5235\n",
      "< 5: 0, < 10: 0, < 15: 0\n",
      "> 175: 0, > 170: 0, > 165: 0\n",
      "\n",
      "vertex smoothing...\n",
      "success all 34\n",
      "success boundary 3\n",
      "vertex smoothing done!\n",
      "time = 0.001361s\n",
      "#v = 291(375)    unrounded = 0\n",
      "#t = 512(680)\n",
      "max_energy = 2.51249\n",
      "avg_energy = 2.24343\n",
      "min_angle = 35.8609, max_angle = 96.5235\n",
      "< 5: 0, < 10: 0, < 15: 0\n",
      "> 175: 0, > 170: 0, > 165: 0\n",
      "\n",
      "//////////////// CURVED pass 3 ////////////////\n",
      "feature vertex snapping...\n",
      "success 0/0\n",
      "feature vertex snapping done!\n",
      "time = 1.1e-05s\n",
      "#v = 291(375)    unrounded = 0\n",
      "#t = 512(680)\n",
      "max_energy = 2.51249\n",
      "avg_energy = 2.24343\n",
      "min_angle = 35.8609, max_angle = 96.5235\n",
      "< 5: 0, < 10: 0, < 15: 0\n",
      "> 175: 0, > 170: 0, > 165: 0\n",
      "\n",
      "edge splitting...\n",
      "edge splitting done!\n",
      "time = 0.000254s\n",
      "#v = 333(375)    unrounded = 0\n",
      "#t = 596(680)\n",
      "max_energy = 3.00545\n",
      "avg_energy = 2.27082\n",
      "min_angle = 28.2145, max_angle = 109.242\n",
      "< 5: 0, < 10: 0, < 15: 0\n",
      "> 175: 0, > 170: 0, > 165: 0\n",
      "\n",
      "edge collapsing...\n",
      "queue_s.size() = 275\n",
      "success 42\n",
      "re-push 48\n",
      "queue_s.size() = 1\n",
      "success 0\n",
      "re-push 0\n",
      "edge collapsing done!\n",
      "time = 0.000482s\n",
      "#v = 291(375)    unrounded = 0\n",
      "#t = 512(680)\n",
      "max_energy = 2.73932\n",
      "avg_energy = 2.2461\n",
      "min_angle = 35.8609, max_angle = 102.533\n",
      "< 5: 0, < 10: 0, < 15: 0\n",
      "> 175: 0, > 170: 0, > 165: 0\n",
      "\n",
      "edge swapping...\n",
      "success 11\n",
      "edge swapping done!\n",
      "time = 0.000699s\n",
      "#v = 291(375)    unrounded = 0\n",
      "#t = 512(680)\n",
      "max_energy = 2.51249\n",
      "avg_energy = 2.24343\n",
      "min_angle = 33.4118, max_angle = 96.5235\n",
      "< 5: 0, < 10: 0, < 15: 0\n",
      "> 175: 0, > 170: 0, > 165: 0\n",
      "\n",
      "vertex smoothing...\n",
      "success all 30\n",
      "success boundary 2\n",
      "vertex smoothing done!\n",
      "time = 0.001408s\n",
      "#v = 291(375)    unrounded = 0\n",
      "#t = 512(680)\n",
      "max_energy = 2.51249\n",
      "avg_energy = 2.24065\n",
      "min_angle = 33.4118, max_angle = 96.5235\n",
      "< 5: 0, < 10: 0, < 15: 0\n",
      "> 175: 0, > 170: 0, > 165: 0\n",
      "\n",
      "//////////////// CURVED pass 4 ////////////////\n",
      "feature vertex snapping...\n",
      "success 0/0\n",
      "feature vertex snapping done!\n",
      "time = 1.1e-05s\n",
      "#v = 291(375)    unrounded = 0\n",
      "#t = 512(680)\n",
      "max_energy = 2.51249\n",
      "avg_energy = 2.24065\n",
      "min_angle = 33.4118, max_angle = 96.5235\n",
      "< 5: 0, < 10: 0, < 15: 0\n",
      "> 175: 0, > 170: 0, > 165: 0\n",
      "\n",
      "edge splitting...\n",
      "edge splitting done!\n",
      "time = 0.000312s\n",
      "#v = 332(375)    unrounded = 0\n",
      "#t = 594(680)\n",
      "max_energy = 3.00545\n",
      "avg_energy = 2.26624\n",
      "min_angle = 28.1838, max_angle = 108.877\n",
      "< 5: 0, < 10: 0, < 15: 0\n",
      "> 175: 0, > 170: 0, > 165: 0\n",
      "\n",
      "edge collapsing...\n",
      "queue_s.size() = 271\n",
      "success 41\n",
      "re-push 47\n",
      "queue_s.size() = 1\n",
      "success 0\n",
      "re-push 0\n",
      "edge collapsing done!\n",
      "time = 0.00052s\n",
      "#v = 291(375)    unrounded = 0\n",
      "#t = 512(680)\n",
      "max_energy = 2.73932\n",
      "avg_energy = 2.24162\n",
      "min_angle = 35.8609, max_angle = 96.5235\n",
      "< 5: 0, < 10: 0, < 15: 0\n",
      "> 175: 0, > 170: 0, > 165: 0\n",
      "\n",
      "edge swapping...\n",
      "success 10\n",
      "edge swapping done!\n",
      "time = 0.000741s\n",
      "#v = 291(375)    unrounded = 0\n",
      "#t = 512(680)\n",
      "max_energy = 2.51249\n",
      "avg_energy = 2.24065\n",
      "min_angle = 33.4118, max_angle = 96.5235\n",
      "< 5: 0, < 10: 0, < 15: 0\n",
      "> 175: 0, > 170: 0, > 165: 0\n",
      "\n",
      "vertex smoothing...\n",
      "success all 26\n",
      "success boundary 2\n",
      "vertex smoothing done!\n",
      "time = 0.001386s\n",
      "#v = 291(375)    unrounded = 0\n",
      "#t = 512(680)\n",
      "max_energy = 2.51249\n",
      "avg_energy = 2.24032\n",
      "min_angle = 33.4118, max_angle = 96.5235\n",
      "< 5: 0, < 10: 0, < 15: 0\n",
      "> 175: 0, > 170: 0, > 165: 0\n",
      "\n",
      "Curving done.\n",
      "time = 0.040094s\n"
     ]
    }
   ],
   "source": [
    "import wildmeshing as wm\n",
    "mesh_path = \"plane_hole.svg\"\n",
    "\n",
    "v, f, nodes, F_nodes = wm.triangulate_svg(mesh_path, cut_outside=True)"
   ]
  },
  {
   "cell_type": "markdown",
   "metadata": {},
   "source": [
    "Now we proceed as before"
   ]
  },
  {
   "cell_type": "code",
   "execution_count": 18,
   "metadata": {},
   "outputs": [],
   "source": [
    "#create settings\n",
    "settings = pf.Settings(\n",
    "    discr_order=1, #pick linear P_1 elements, even if the geometry is P_3\n",
    "    pde=pf.PDEs.LinearElasticity #Linear elasticity\n",
    ")\n",
    "\n",
    "#Material parameters\n",
    "settings.set_material_params(\"E\", 210000)\n",
    "settings.set_material_params(\"nu\", 0.3)"
   ]
  },
  {
   "cell_type": "code",
   "execution_count": 19,
   "metadata": {},
   "outputs": [],
   "source": [
    "problem = pf.Problem()\n",
    "\n",
    "#sideset 1 is symmetric in x\n",
    "problem.set_x_symmetric(1)\n",
    "\n",
    "#sideset 4 is symmetric in y\n",
    "problem.set_y_symmetric(4)\n",
    "\n",
    "#sideset 3 has a force of [100, 0] applied\n",
    "problem.set_force(3, [100, 0])"
   ]
  },
  {
   "cell_type": "markdown",
   "metadata": {},
   "source": [
    "fianally set the problem"
   ]
  },
  {
   "cell_type": "code",
   "execution_count": 20,
   "metadata": {},
   "outputs": [],
   "source": [
    "settings.problem = problem"
   ]
  },
  {
   "cell_type": "markdown",
   "metadata": {},
   "source": [
    "Create the solver and load the high-order mesh, the only difference with respect to before"
   ]
  },
  {
   "cell_type": "code",
   "execution_count": 21,
   "metadata": {},
   "outputs": [
    {
     "name": "stdout",
     "output_type": "stream",
     "text": [
      "[2024-07-21 21:11:14.961] [polyfem] [info] Loading mesh...\n",
      "[2024-07-21 21:11:14.961] [polyfem] [info] mesh bb min [0, 0], max [1, 0.5]\n",
      "[2024-07-21 21:11:14.961] [polyfem] [info]  took 5.7e-05s\n"
     ]
    }
   ],
   "source": [
    "solver = pf.Solver()\n",
    "\n",
    "solver.settings(settings)\n",
    "solver.set_high_order_mesh(v, f, nodes, F_nodes, normalize_mesh=True)"
   ]
  },
  {
   "cell_type": "markdown",
   "metadata": {},
   "source": [
    "And finally, solve!"
   ]
  },
  {
   "cell_type": "code",
   "execution_count": 22,
   "metadata": {},
   "outputs": [],
   "source": [
    "#solver.solve()"
   ]
  },
  {
   "cell_type": "markdown",
   "metadata": {},
   "source": [
    "Get and plot the solution, same as before"
   ]
  },
  {
   "cell_type": "code",
   "execution_count": 23,
   "metadata": {},
   "outputs": [],
   "source": [
    "solver_2_breaks = True\n",
    "\n",
    "if not solver_2_breaks:\n",
    "    pts, tets, disp = solver.get_sampled_solution()\n",
    "\n",
    "    #diplace the mesh\n",
    "    vertices = pts + disp\n",
    "\n",
    "    #get the stresses\n",
    "    mises, _ = solver.get_sampled_mises_avg()\n",
    "\n",
    "    #plot\n",
    "    mp.plot(vertices, tets, mises, return_plot=True)"
   ]
  },
  {
   "cell_type": "markdown",
   "metadata": {},
   "source": [
    "## Torsion"
   ]
  },
  {
   "cell_type": "markdown",
   "metadata": {},
   "source": [
    "Non-linear example. We want to torque a 3D bar around the $z$ direction.\n",
    "\n",
    "The example is really similar as the one just above."
   ]
  },
  {
   "cell_type": "markdown",
   "metadata": {},
   "source": [
    "Sets the mesh, create a solver, and load the mesh."
   ]
  },
  {
   "cell_type": "markdown",
   "metadata": {},
   "source": [
    "In this case the mesh has already the correct size. We also choose a coarse visualization mesh"
   ]
  },
  {
   "cell_type": "code",
   "execution_count": 24,
   "metadata": {},
   "outputs": [
    {
     "name": "stdout",
     "output_type": "stream",
     "text": [
      "[2024-07-21 21:11:15.020] [polyfem] [info] Loading mesh...\n",
      "[2024-07-21 21:11:15.031] [polyfem] [info] mesh bb min [-10, -10, 0], max [10, 10, 100]\n",
      "[2024-07-21 21:11:15.031] [polyfem] [info]  took 0.01104s\n"
     ]
    }
   ],
   "source": [
    "mesh_path = \"square_beam_h.HYBRID\"\n",
    "solver = pf.Solver()\n",
    "solver.load_mesh_from_path(mesh_path, normalize_mesh=False, vismesh_rel_area=0.001)"
   ]
  },
  {
   "cell_type": "markdown",
   "metadata": {},
   "source": [
    "We want to use the default sideset marking, top of the mesh is 5 and bottom is 6.\n",
    "\n",
    "Let's verify. We first extract the sidesets: `p` are some point, `t` triangles, and `s` the sidesets from 1 to 6"
   ]
  },
  {
   "cell_type": "code",
   "execution_count": 25,
   "metadata": {},
   "outputs": [],
   "source": [
    "p, t, s = solver.get_boundary_sidesets()"
   ]
  },
  {
   "cell_type": "markdown",
   "metadata": {},
   "source": [
    "Now we can plot it"
   ]
  },
  {
   "cell_type": "code",
   "execution_count": 26,
   "metadata": {},
   "outputs": [
    {
     "data": {
      "application/vnd.jupyter.widget-view+json": {
       "model_id": "9fd5ccf1d9ea4287844701f4323a868b",
       "version_major": 2,
       "version_minor": 0
      },
      "text/plain": [
       "Renderer(camera=PerspectiveCamera(children=(DirectionalLight(color='white', intensity=0.6, position=(0.0, 0.0,…"
      ]
     },
     "metadata": {},
     "output_type": "display_data"
    },
    {
     "data": {
      "text/plain": [
       "<meshplot.Viewer.Viewer at 0x72aed3fb4ac0>"
      ]
     },
     "execution_count": 26,
     "metadata": {},
     "output_type": "execute_result"
    }
   ],
   "source": [
    "tmp = np.zeros_like(s)\n",
    "tmp[s==5] = 1\n",
    "tmp[s==6] = 1\n",
    "\n",
    "mp.plot(p, t, tmp, return_plot=True)"
   ]
  },
  {
   "cell_type": "markdown",
   "metadata": {},
   "source": [
    "Now we create the settings, as before.\n",
    "\n",
    "Note: It is an hex-mesh so we are using $Q_1$.\n",
    "\n",
    "Differently from before we want a non-linear material model: NeoHookean.\n",
    "\n",
    "To avoid ambiguities in the rotation, we want to do 5 steps of incremental loading."
   ]
  },
  {
   "cell_type": "code",
   "execution_count": 27,
   "metadata": {},
   "outputs": [],
   "source": [
    "settings = pf.Settings(\n",
    "    discr_order=1,\n",
    "    pde=pf.PDEs.NonLinearElasticity,\n",
    "    \n",
    "    nl_solver_rhs_steps=5\n",
    ")"
   ]
  },
  {
   "cell_type": "markdown",
   "metadata": {},
   "source": [
    "Choose Young's modulus and Poisson's ratio, as before"
   ]
  },
  {
   "cell_type": "code",
   "execution_count": 28,
   "metadata": {},
   "outputs": [],
   "source": [
    "settings.set_material_params(\"E\", 200)\n",
    "settings.set_material_params(\"nu\", 0.35)"
   ]
  },
  {
   "cell_type": "markdown",
   "metadata": {},
   "source": [
    "Now we setup problem with fixed sideset (5), rotating sideset (6), ahlf a tour along the $z$-axis."
   ]
  },
  {
   "cell_type": "code",
   "execution_count": 29,
   "metadata": {},
   "outputs": [
    {
     "ename": "",
     "evalue": "",
     "output_type": "error",
     "traceback": [
      "\u001b[1;31mThe Kernel crashed while executing code in the current cell or a previous cell. \n",
      "\u001b[1;31mPlease review the code in the cell(s) to identify a possible cause of the failure. \n",
      "\u001b[1;31mClick <a href='https://aka.ms/vscodeJupyterKernelCrash'>here</a> for more info. \n",
      "\u001b[1;31mView Jupyter <a href='command:jupyter.viewOutput'>log</a> for further details."
     ]
    }
   ],
   "source": [
    "problem = pf.Torsion(\n",
    "    fixed_boundary=5, #sideset 5 is fixed\n",
    "    turning_boundary=6, #sideset 6 rotates\n",
    "    \n",
    "    n_turns = 0.5, #by half a tour\n",
    "    \n",
    "    axis_coordiante=2, #around the z-axis, 2\n",
    "    \n",
    ")"
   ]
  },
  {
   "cell_type": "markdown",
   "metadata": {},
   "source": [
    "and set the problem and solve"
   ]
  },
  {
   "cell_type": "code",
   "execution_count": 30,
   "metadata": {},
   "outputs": [
    {
     "name": "stdout",
     "output_type": "stream",
     "text": [
      "[2024-07-21 21:11:15.336] [polyfem] [info] simplex_count: \t0\n",
      "[2024-07-21 21:11:15.336] [polyfem] [info] regular_count: \t108\n",
      "[2024-07-21 21:11:15.336] [polyfem] [info] regular_boundary_count: \t356\n",
      "[2024-07-21 21:11:15.336] [polyfem] [info] simple_singular_count: \t0\n",
      "[2024-07-21 21:11:15.336] [polyfem] [info] multi_singular_count: \t0\n",
      "[2024-07-21 21:11:15.336] [polyfem] [info] boundary_count: \t0\n",
      "[2024-07-21 21:11:15.336] [polyfem] [info] multi_singular_boundary_count: \t0\n",
      "[2024-07-21 21:11:15.336] [polyfem] [info] non_regular_count: \t0\n",
      "[2024-07-21 21:11:15.336] [polyfem] [info] non_regular_boundary_count: \t0\n",
      "[2024-07-21 21:11:15.336] [polyfem] [info] undefined_count: \t0\n",
      "[2024-07-21 21:11:15.336] [polyfem] [info] total count:\t 464\n",
      "[2024-07-21 21:11:15.336] [polyfem] [info] Building isoparametric basis...\n",
      "[2024-07-21 21:11:15.343] [polyfem] [info] Computing polygonal basis...\n",
      "[2024-07-21 21:11:15.343] [polyfem] [info]  took 2.2e-05s\n",
      "[2024-07-21 21:11:15.344] [polyfem] [info] hmin: 3.4482\n",
      "[2024-07-21 21:11:15.344] [p[2024-07-21 21:11:15.336] [polyfem] [info] simplex_count: \t0\n",
      "[2024-07-21 21:11:15.336] [polyfem] [info] regular_count: \t108\n",
      "[2024-07-21 21:11:15.336] [polyfem] [info] regular_boundary_count: \t356\n",
      "[2024-07-21 21:11:15.336] [polyfem] [info] simple_singular_count: \t0\n",
      "[2024-07-21 21:11:15.336] [polyfem] [info] multi_singular_count: \t0\n",
      "[2024-07-21 21:11:15.336] [polyfem] [info] boundary_count: \t0\n",
      "[2024-07-21 21:11:15.336] [polyfem] [info] multi_singular_boundary_count: \t0\n",
      "[2024-07-21 21:11:15.336] [polyfem] [info] non_regular_count: \t0\n",
      "[2024-07-21 21:11:15.336] [polyfem] [info] non_regular_boundary_count: \t0\n",
      "[2024-07-21 21:11:15.336] [polyfem] [info] undefined_count: \t0\n",
      "[2024-07-21 21:11:15.336] [polyfem] [info] total count:\t 464\n",
      "[2024-07-21 21:11:15.336] [polyfem] [info] Building isoparametric basis...\n",
      "[2024-07-21 21:11:15.343] [polyfem] [info] Computing polygonal basis...\n",
      "[2024-07-21 21:11:15.343] [polyfem] [info]  took 2.2e-05s\n",
      "[2024-07-21 21:11:15.344] [polyfem] [info] hmin: 3.4482\n",
      "[2024-07-21 21:11:15.344] [p"
     ]
    }
   ],
   "source": [
    "settings.problem = problem\n",
    "\n",
    "#solving!\n",
    "solver.settings(settings)\n",
    "\n",
    "solver.solve()"
   ]
  },
  {
   "cell_type": "markdown",
   "metadata": {},
   "source": [
    "takes approx 1 min because it is a complicated non-linear problem!"
   ]
  },
  {
   "cell_type": "markdown",
   "metadata": {},
   "source": [
    "Get solution and stesses as before\n",
    "\n",
    "Since we want to show only the surface there is no need of getting the whole volume, so we set `boundary_only` to `True`"
   ]
  },
  {
   "cell_type": "code",
   "execution_count": null,
   "metadata": {},
   "outputs": [],
   "source": [
    "pts, tets, disp = solver.get_sampled_solution(boundary_only=True)\n",
    "vertices = pts + disp\n",
    "mises, _ = solver.get_sampled_mises_avg(boundary_only=True)"
   ]
  },
  {
   "cell_type": "markdown",
   "metadata": {},
   "source": [
    "and plot the 3d result!"
   ]
  },
  {
   "cell_type": "code",
   "execution_count": null,
   "metadata": {},
   "outputs": [
    {
     "data": {
      "application/vnd.jupyter.widget-view+json": {
       "model_id": "efbcb472c7874881b5c781326a0c0198",
       "version_major": 2,
       "version_minor": 0
      },
      "text/plain": [
       "Renderer(camera=PerspectiveCamera(children=(DirectionalLight(color='white', intensity=0.6, position=(0.0, 0.0,…"
      ]
     },
     "metadata": {},
     "output_type": "display_data"
    },
    {
     "data": {
      "text/plain": [
       "<meshplot.Viewer.Viewer at 0x78f3f75f6dc0>"
      ]
     },
     "execution_count": 34,
     "metadata": {},
     "output_type": "execute_result"
    }
   ],
   "source": [
    "mp.plot(vertices, tets, mises, shading={\"flat\":True}, return_plot=True)"
   ]
  },
  {
   "cell_type": "markdown",
   "metadata": {},
   "source": [
    "## Fluid simulation"
   ]
  },
  {
   "cell_type": "markdown",
   "metadata": {},
   "source": [
    "Create the mesh using the utility function"
   ]
  },
  {
   "cell_type": "code",
   "execution_count": null,
   "metadata": {},
   "outputs": [],
   "source": [
    "pts, faces = create_quad_mesh(50)"
   ]
  },
  {
   "cell_type": "markdown",
   "metadata": {},
   "source": [
    "create settings, pick linear $Q_2$ elements for velocity and $Q_1$ for pressure and select stokes as material model."
   ]
  },
  {
   "cell_type": "code",
   "execution_count": null,
   "metadata": {},
   "outputs": [],
   "source": [
    "settings = pf.Settings(\n",
    "    discr_order=2,\n",
    "    pressure_discr_order=1,\n",
    "    \n",
    "    pde=pf.PDEs.Stokes\n",
    ")"
   ]
  },
  {
   "cell_type": "markdown",
   "metadata": {},
   "source": [
    "Set the viscosity of the fluid"
   ]
  },
  {
   "cell_type": "code",
   "execution_count": null,
   "metadata": {},
   "outputs": [],
   "source": [
    "settings.set_material_params(\"viscosity\", 1)"
   ]
  },
  {
   "cell_type": "markdown",
   "metadata": {},
   "source": [
    "The default solver do not support mixed formulation, we need to choose `UmfPackLU`"
   ]
  },
  {
   "cell_type": "code",
   "execution_count": null,
   "metadata": {},
   "outputs": [],
   "source": [
    "settings.set_advanced_option(\"solver_type\", \"Eigen::UmfPackLU\")"
   ]
  },
  {
   "cell_type": "markdown",
   "metadata": {},
   "source": [
    "We use the standard [Driven Cavity](https://www.cfd-online.com/Wiki/Lid-driven_cavity_problem) problem"
   ]
  },
  {
   "cell_type": "code",
   "execution_count": null,
   "metadata": {},
   "outputs": [],
   "source": [
    "problem = pf.DrivenCavity()"
   ]
  },
  {
   "cell_type": "markdown",
   "metadata": {},
   "source": [
    "we set the problem"
   ]
  },
  {
   "cell_type": "code",
   "execution_count": null,
   "metadata": {},
   "outputs": [],
   "source": [
    "settings.problem = problem"
   ]
  },
  {
   "cell_type": "markdown",
   "metadata": {},
   "source": [
    "We create the solver and set the settings"
   ]
  },
  {
   "cell_type": "code",
   "execution_count": null,
   "metadata": {},
   "outputs": [],
   "source": [
    "solver = pf.Solver()\n",
    "solver.settings(settings)"
   ]
  },
  {
   "cell_type": "markdown",
   "metadata": {},
   "source": [
    "This time we are using pts and faces instead of loading from the disk"
   ]
  },
  {
   "cell_type": "code",
   "execution_count": null,
   "metadata": {},
   "outputs": [],
   "source": [
    "solver.set_mesh(pts, faces, vismesh_rel_area=0.001)"
   ]
  },
  {
   "cell_type": "markdown",
   "metadata": {},
   "source": [
    "Solve!"
   ]
  },
  {
   "cell_type": "code",
   "execution_count": null,
   "metadata": {},
   "outputs": [],
   "source": [
    "solver.solve()"
   ]
  },
  {
   "cell_type": "markdown",
   "metadata": {},
   "source": [
    "We now get the solution and the pressure"
   ]
  },
  {
   "cell_type": "code",
   "execution_count": null,
   "metadata": {},
   "outputs": [],
   "source": [
    "pts, tris, velocity = solver.get_sampled_solution()"
   ]
  },
  {
   "cell_type": "markdown",
   "metadata": {},
   "source": [
    "and plot it!"
   ]
  },
  {
   "cell_type": "code",
   "execution_count": null,
   "metadata": {},
   "outputs": [],
   "source": [
    "each = 10\n",
    "p = mp.plot(pts, tris, np.linalg.norm(velocity, axis=1), return_plot=True)\n",
    "p.add_lines(pts[0:pts.shape[0]:each,:], pts[0:pts.shape[0]:each,:]+velocity[0:pts.shape[0]:each,:]/6)\n",
    "p"
   ]
  },
  {
   "cell_type": "markdown",
   "metadata": {},
   "source": [
    "## Time dependent simulation"
   ]
  },
  {
   "cell_type": "markdown",
   "metadata": {},
   "source": [
    "Create the mesh using the utility function"
   ]
  },
  {
   "cell_type": "code",
   "execution_count": null,
   "metadata": {},
   "outputs": [],
   "source": [
    "pts, faces = create_quad_mesh(50)"
   ]
  },
  {
   "cell_type": "markdown",
   "metadata": {},
   "source": [
    "create settings, pick linear $Q_1$ elements, and a linear material model.\n",
    "\n",
    "In this case we want to run a simulation with $t\\in[0, 10]$ and have 50 time steps."
   ]
  },
  {
   "cell_type": "code",
   "execution_count": null,
   "metadata": {},
   "outputs": [],
   "source": [
    "settings = pf.Settings(\n",
    "    discr_order=1,\n",
    "    pde=pf.PDEs.LinearElasticity,\n",
    "    \n",
    "    tend=10,\n",
    "    time_steps=50\n",
    ")"
   ]
  },
  {
   "cell_type": "markdown",
   "metadata": {},
   "source": [
    "Choose Young's modulus and poisson ratio"
   ]
  },
  {
   "cell_type": "code",
   "execution_count": null,
   "metadata": {},
   "outputs": [],
   "source": [
    "settings.set_material_params(\"E\", 1)\n",
    "settings.set_material_params(\"nu\", 0.3)"
   ]
  },
  {
   "cell_type": "markdown",
   "metadata": {},
   "source": [
    "Next we setup the problem, this doesnt have any parameters. It will..."
   ]
  },
  {
   "cell_type": "code",
   "execution_count": null,
   "metadata": {},
   "outputs": [],
   "source": [
    "problem = pf.Gravity()"
   ]
  },
  {
   "cell_type": "markdown",
   "metadata": {},
   "source": [
    "we set the problem"
   ]
  },
  {
   "cell_type": "code",
   "execution_count": null,
   "metadata": {},
   "outputs": [],
   "source": [
    "settings.problem = problem"
   ]
  },
  {
   "cell_type": "markdown",
   "metadata": {},
   "source": [
    "We create the solver and set the settings"
   ]
  },
  {
   "cell_type": "code",
   "execution_count": null,
   "metadata": {},
   "outputs": [],
   "source": [
    "solver = pf.Solver()\n",
    "solver.settings(settings)"
   ]
  },
  {
   "cell_type": "markdown",
   "metadata": {},
   "source": [
    "This time we are using `pts` and `faces` instead of loading from the disk (For efficienty in the browser we select a coarse vis mesh)"
   ]
  },
  {
   "cell_type": "code",
   "execution_count": null,
   "metadata": {},
   "outputs": [],
   "source": [
    "solver.set_mesh(pts, faces, vismesh_rel_area=0.001)"
   ]
  },
  {
   "cell_type": "markdown",
   "metadata": {},
   "source": [
    "Solve!"
   ]
  },
  {
   "cell_type": "code",
   "execution_count": null,
   "metadata": {},
   "outputs": [],
   "source": [
    "solver.solve()"
   ]
  },
  {
   "cell_type": "markdown",
   "metadata": {},
   "source": [
    "Get the solution and the mises"
   ]
  },
  {
   "cell_type": "code",
   "execution_count": null,
   "metadata": {},
   "outputs": [],
   "source": [
    "pts = solver.get_sampled_points_frames()\n",
    "tris = solver.get_sampled_connectivity_frames()\n",
    "disp = solver.get_sampled_solution_frames()\n",
    "mises = solver.get_sampled_mises_avg_frames()"
   ]
  },
  {
   "cell_type": "code",
   "execution_count": null,
   "metadata": {},
   "outputs": [],
   "source": [
    "def plot(frame, p=None):\n",
    "    return mp.plot(pts[frame]+disp[frame], tris[frame], mises[frame], return_plot=True, plot=p)"
   ]
  },
  {
   "cell_type": "markdown",
   "metadata": {},
   "source": [
    "Before the animation, let's plot the solution some frames"
   ]
  },
  {
   "cell_type": "code",
   "execution_count": null,
   "metadata": {},
   "outputs": [],
   "source": [
    "plot(0)"
   ]
  },
  {
   "cell_type": "code",
   "execution_count": null,
   "metadata": {},
   "outputs": [],
   "source": [
    "plot(5)"
   ]
  },
  {
   "cell_type": "code",
   "execution_count": null,
   "metadata": {},
   "outputs": [],
   "source": [
    "plot(11)"
   ]
  },
  {
   "cell_type": "markdown",
   "metadata": {},
   "source": [
    "Now we are ready to do the animation"
   ]
  },
  {
   "cell_type": "code",
   "execution_count": null,
   "metadata": {},
   "outputs": [],
   "source": [
    "p = plot(0)\n",
    "\n",
    "@mp.interact(frame=(0, len(mises)))\n",
    "def step(frame=0):\n",
    "    plot(frame, p)"
   ]
  }
 ],
 "metadata": {
  "kernelspec": {
   "display_name": "venv",
   "language": "python",
   "name": "python3"
  },
  "language_info": {
   "codemirror_mode": {
    "name": "ipython",
    "version": 3
   },
   "file_extension": ".py",
   "mimetype": "text/x-python",
   "name": "python",
   "nbconvert_exporter": "python",
   "pygments_lexer": "ipython3",
   "version": "3.8.19"
  }
 },
 "nbformat": 4,
 "nbformat_minor": 2
}
